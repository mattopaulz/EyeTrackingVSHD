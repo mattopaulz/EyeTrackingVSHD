{
 "cells": [
  {
   "cell_type": "markdown",
   "id": "c2862db7",
   "metadata": {},
   "source": [
    "## Precision and accuracy of eyetracking VSHD (Arrington ViewPoint)\n",
    "### This notebook reads in a folder of datafiles made using the \"Precision and Accuracy.sln\" program, and prints a table with the measurements for each one\n",
    "#### Imports libraries:"
   ]
  },
  {
   "cell_type": "code",
   "execution_count": 1,
   "id": "a103625e",
   "metadata": {},
   "outputs": [],
   "source": [
    "import warnings\n",
    "warnings.simplefilter(action='ignore', category=FutureWarning)\n",
    "import pandas as pd\n",
    "import numpy as np\n",
    "import math\n",
    "import os\n",
    "import matplotlib.pyplot as plt"
   ]
  },
  {
   "cell_type": "markdown",
   "id": "c7e21959",
   "metadata": {},
   "source": [
    "#### Folder directory:"
   ]
  },
  {
   "cell_type": "code",
   "execution_count": 2,
   "id": "0a944f9b",
   "metadata": {},
   "outputs": [],
   "source": [
    "directory = 'data'"
   ]
  },
  {
   "cell_type": "markdown",
   "id": "134a0c2b",
   "metadata": {},
   "source": [
    "#### Function that calculates standard deviation of a list of 2D angles "
   ]
  },
  {
   "cell_type": "code",
   "execution_count": 3,
   "id": "e2fce887",
   "metadata": {},
   "outputs": [],
   "source": [
    "def calculateAngleStd(azimuthList, elevationList):\n",
    "    azimuthList = azimuthList.reset_index(drop=True)\n",
    "    elevationList = elevationList.reset_index(drop=True)\n",
    "    \n",
    "    \n",
    "    meanAzimuth , meanElevation = azimuthList.mean(), elevationList.mean()\n",
    "    meanAngle=(meanAzimuth, meanElevation)\n",
    "    distanceList = []\n",
    "    for i in range(len(azimuthList)):\n",
    "        \n",
    "        d = calculateDistance((azimuthList[i], elevationList[i]), meanAngle)\n",
    "\n",
    "        distanceList.append(d)\n",
    "    \n",
    "    \n",
    "    a=0\n",
    "    for d in distanceList:\n",
    "        a+=d**2\n",
    "    std = math.sqrt(a/len(distanceList))\n",
    "\n",
    "    \n",
    "    \n",
    "    return std"
   ]
  },
  {
   "cell_type": "markdown",
   "id": "f3bff2ba",
   "metadata": {},
   "source": [
    "#### Function that calculates angular distance between two angles"
   ]
  },
  {
   "cell_type": "code",
   "execution_count": 4,
   "id": "e2fae153",
   "metadata": {},
   "outputs": [],
   "source": [
    "def calculateDistance(a, b):\n",
    "    AB = (a[0]-b[0], a[1] - b[1])\n",
    "\n",
    "    d_AB = math.sqrt(AB[0]**2 + AB[1]**2)\n",
    "\n",
    "    return d_AB\n",
    "\n",
    "    "
   ]
  },
  {
   "cell_type": "markdown",
   "id": "6feabf24",
   "metadata": {},
   "source": [
    "#### Function that calculates the precision of points in a DataFrame by measuring the distance between each point and their respective succesive points, then taking the root mean square (RMS) of these distances"
   ]
  },
  {
   "cell_type": "code",
   "execution_count": 5,
   "id": "de5fbddf",
   "metadata": {},
   "outputs": [],
   "source": [
    "def calculatePrecision(df): \n",
    "    gazePoints = []\n",
    "    for i in range(len(df)):\n",
    "\n",
    "        gazePoints.append((df[\"Azimuth\"].reset_index(drop=True)[i], df[\"Elevation\"].reset_index(drop=True)[i]))\n",
    "\n",
    "\n",
    "    distanceList = []\n",
    "    for i in range(len(gazePoints)-1):\n",
    "        d = calculateDistance(gazePoints[i], gazePoints[i+1])\n",
    "\n",
    "        distanceList.append(d)\n",
    "\n",
    "    a=0\n",
    "    for d in distanceList:\n",
    "        a+=d**2\n",
    "    precision = math.sqrt(a/len(distanceList))\n",
    "    \n",
    "    return precision\n"
   ]
  },
  {
   "cell_type": "markdown",
   "id": "c74bd920",
   "metadata": {},
   "source": [
    "#### This function extracts gaze data from all of the data measured for each of the points shown on the screens\n",
    "It finds the 18 succesive datapoints (300ms) in the data with the lowest standard deviation, and tries to extend the data one sample at a time in each direction until the standard deviation gets worse."
   ]
  },
  {
   "cell_type": "code",
   "execution_count": 6,
   "id": "77bab3da",
   "metadata": {},
   "outputs": [],
   "source": [
    "def getGazeData(df):  \n",
    "    dropStart = 18\n",
    "\n",
    "    angleData = df[[\"Azimuth\",\"Elevation\"]][dropStart:].reset_index(drop=True)\n",
    "\n",
    "    gazeData = angleData[:18]\n",
    "\n",
    "    for i in range(len(df)-17-dropStart):\n",
    "        newGazeData = angleData[i:i+18] \n",
    "        if calculateAngleStd(gazeData[\"Azimuth\"], gazeData[\"Elevation\"]) > calculateAngleStd(newGazeData[\"Azimuth\"], newGazeData[\"Elevation\"]):\n",
    "            gazeData = newGazeData\n",
    "\n",
    "    \n",
    "    \n",
    "    \n",
    "    #Tries to extend\n",
    "        \n",
    "    x=0\n",
    "    while True:\n",
    "        \n",
    "        indexToAdd = gazeData.index[-1] + 1\n",
    "        \n",
    "        \n",
    "        if indexToAdd in angleData.index:\n",
    "            extGazeData = gazeData.append(angleData.iloc[indexToAdd]).sort_index()\n",
    "        else:\n",
    "            break\n",
    "        \n",
    "        \n",
    "        \n",
    "        if calculateAngleStd(gazeData[\"Azimuth\"], gazeData[\"Elevation\"]) > calculateAngleStd(extGazeData[\"Azimuth\"], extGazeData[\"Elevation\"]):\n",
    "            gazeData = extGazeData\n",
    "        else:\n",
    "            break\n",
    "        x+=1\n",
    "        if x > 160:\n",
    "            break\n",
    "    \n",
    "    while True:\n",
    "        \n",
    "        indexToAdd = gazeData.index[0] -1\n",
    "        \n",
    "       \n",
    "        if indexToAdd in angleData.index:\n",
    "            extGazeData = gazeData.append(angleData.iloc[indexToAdd]).sort_index()\n",
    "        else:\n",
    "            break\n",
    "\n",
    "        \n",
    "        if calculateAngleStd(gazeData[\"Azimuth\"], gazeData[\"Elevation\"]) > calculateAngleStd(extGazeData[\"Azimuth\"], extGazeData[\"Elevation\"]):\n",
    "            gazeData = extGazeData\n",
    "        else:\n",
    "            break\n",
    "        x+=1\n",
    "        if x > 160:\n",
    "            break\n",
    "    return gazeData\n",
    "    "
   ]
  },
  {
   "cell_type": "markdown",
   "id": "a45dc003",
   "metadata": {},
   "source": [
    "#### Function that converts screen coordinates into gaze angle\n",
    "Middle of screen is gaze angle = 0 and x=0.5 y=0.5"
   ]
  },
  {
   "cell_type": "code",
   "execution_count": 7,
   "id": "a523c905",
   "metadata": {},
   "outputs": [
    {
     "name": "stdout",
     "output_type": "stream",
     "text": [
      "(18.38644820009973, 10.733247445709274)\n"
     ]
    }
   ],
   "source": [
    "def calculateAngle(screenX, screenY, fovHorizontal=52.1, fovVertical=34):\n",
    "    x = (screenX*2) - 1\n",
    "    y = (screenY*2) - 1\n",
    "\n",
    "    azimuth = math.atan(x*math.tan(fovHorizontal*math.pi/360))\n",
    "    elevation = math.atan(y*math.tan(fovVertical*math.pi/360))\n",
    "\n",
    "    \n",
    "    return azimuth*180/math.pi, elevation*180/math.pi\n",
    "\n",
    "#This function assumes a linear relationship between screen coordinates and gaze angle, and should therefore be less accurate than the above function\n",
    "def calculateAngle2(screenX, screenY, fovHorizontal=52.1, fovVertical=34):\n",
    "    x = (screenX*2) - 1\n",
    "    y = (screenY*2) - 1\n",
    "\n",
    "    azimuth = x*fovHorizontal/2\n",
    "    elevation = y*fovVertical/2\n",
    "\n",
    "    \n",
    "    return azimuth, elevation\n",
    "\n",
    "\n",
    "print(calculateAngle(0.84,0.81))\n",
    "\n"
   ]
  },
  {
   "cell_type": "markdown",
   "id": "a75921e3",
   "metadata": {},
   "source": [
    "#### Sets list of the true point values for comparison later"
   ]
  },
  {
   "cell_type": "code",
   "execution_count": 8,
   "id": "482e4a25",
   "metadata": {},
   "outputs": [
    {
     "name": "stdout",
     "output_type": "stream",
     "text": [
      "[(-11.06320230741821, 8.691257073883165), (11.063202307418205, -8.691257073883165), (-11.06320230741821, -8.691257073883165), (11.063202307418205, 8.691257073883165), (-5.583644357117053, 3.4990590634325542), (5.583644357117053, 3.4990590634325542), (-5.583644357117053, -3.4990590634325542), (5.583644357117053, -3.4990590634325542), (0.0, -2.6257219671274514), (0.0, 8.691257073883165), (0.0, -8.691257073883165), (-11.06320230741821, 0.0), (0.0, -5.240461161882563), (11.063202307418205, 0.0), (0.0, 5.240461161882563), (0.0, 0.0)]\n"
     ]
    }
   ],
   "source": [
    "truePointValues = [(0.30, 0.75),(0.70, 0.25),(0.30, 0.25),(0.70, 0.75),(0.40, 0.60),(0.60, 0.60),(0.40, 0.40),(0.60, 0.40),(0.50, 0.425),(0.50, 0.75),(0.50, 0.25),(0.30, 0.50),(0.50, 0.35),(0.70, 0.50),(0.50, 0.65),(0.50, 0.50)]\n",
    "truePointAngles = []\n",
    "\n",
    "for point in truePointValues:\n",
    "    angle = calculateAngle(point[0], point[1])\n",
    "    truePointAngles.append(angle)\n",
    "print(truePointAngles)"
   ]
  },
  {
   "cell_type": "markdown",
   "id": "091d85de",
   "metadata": {},
   "source": [
    "#### Algorithm that finds the precision and accuracy-data, then plots it\n"
   ]
  },
  {
   "cell_type": "code",
   "execution_count": 9,
   "id": "4d73be03",
   "metadata": {
    "scrolled": true
   },
   "outputs": [
    {
     "name": "stdout",
     "output_type": "stream",
     "text": [
      "['16', '0.000000', 'C:\\\\Users\\\\Administrator\\\\Documents\\\\PrecisionAndAccuracy\\\\StimulusPoints_bmp\\\\16_96.bmp']\n",
      "[0.08481547833763654] Average precision: 0.08481547833763654\n",
      "[0.7891532981261509] Average accuracy: 0.7891532981261509\n"
     ]
    }
   ],
   "source": [
    "finalAccuracyList=[]\n",
    "finalPrecisionList=[]\n",
    "\n",
    "\n",
    "\n",
    "\n",
    "# iterate over files in the directory\n",
    "for filename in os.scandir(directory):\n",
    "    with open(filename) as rawData: \n",
    "        lineNumber = 0\n",
    "        stimulusPointNr = 0\n",
    "        unwantedLabels = [\"6\",\"ADT\", \"ACX\", \"ACY\",\"ARI\", \"APW\", \"APH\",\"AQU\",\"AFX\",\"BDT\",\"BCX\",\"BCY\",\"BRI\",\"BPW\",\"BPH\",\"BQU\",\"BFX\",\"GPX\",\"GPY\",\"GPZ\",\"CNT\"]\n",
    "        truePointValues = [(0.30, 0.75),(0.70, 0.25),(0.30, 0.25),(0.70, 0.75),(0.40, 0.60),(0.60, 0.60),(0.40, 0.40),(0.60, 0.40),(0.50, 0.425),(0.50, 0.75),(0.50, 0.25),(0.30, 0.50),(0.50, 0.35),(0.70, 0.50),(0.50, 0.65),(0.50, 0.50)]\n",
    "        currentPointData = 0\n",
    "        del currentPointData\n",
    "        dropFirstRows = list(range(0,60))\n",
    "\n",
    "\n",
    "        for line in rawData:\n",
    "            splittedLine =line.split()\n",
    "\n",
    "\n",
    "            #If index of raw data is 6 it adds as columns\n",
    "            if splittedLine[0] == \"6\":\n",
    "                splittedLine.pop(27) #pops mrk label\n",
    "                DfColumns = splittedLine\n",
    "                formattedData = pd.DataFrame(columns=splittedLine)\n",
    "\n",
    "                #Defines dataframes for measured data for all the stimulus points\n",
    "                point1 = pd.DataFrame(columns=DfColumns)\n",
    "                point2 = pd.DataFrame(columns=DfColumns)\n",
    "                point3 = pd.DataFrame(columns=DfColumns)\n",
    "                point4 = pd.DataFrame(columns=DfColumns)\n",
    "                point5 = pd.DataFrame(columns=DfColumns)\n",
    "                point6 = pd.DataFrame(columns=DfColumns)\n",
    "                point7 = pd.DataFrame(columns=DfColumns)\n",
    "                point8 = pd.DataFrame(columns=DfColumns)\n",
    "                point9 = pd.DataFrame(columns=DfColumns)\n",
    "                point10 = pd.DataFrame(columns=DfColumns)\n",
    "                point11= pd.DataFrame(columns=DfColumns)\n",
    "                point12 = pd.DataFrame(columns=DfColumns)\n",
    "                point13 = pd.DataFrame(columns=DfColumns)\n",
    "                point14 = pd.DataFrame(columns=DfColumns)\n",
    "                point15 = pd.DataFrame(columns=DfColumns)\n",
    "                point16 = pd.DataFrame(columns=DfColumns)\n",
    "\n",
    "                stimulusPointData = [point1, point2, point3, point4, point5, point6, point7, point8, point9, point10, point11, point12, point13, point14, point15, point16]\n",
    "\n",
    "            elif splittedLine[0] == \"16\":\n",
    "            \n",
    "                if splittedLine[1][0]==\"0\":\n",
    "                    print(splittedLine)\n",
    "                #if stimulusPointNr >= 0: #Does so that it doesnt start appending the first lines to the last dataframe\n",
    "                else:\n",
    "                    currentPointData = stimulusPointData[stimulusPointNr]\n",
    "                    stimulusPointNr +=1\n",
    "           \n",
    "\n",
    "\n",
    "            #All rows of data have index 10 in the raw data, some have marks though and are therefore 1 column longer,\n",
    "            #this checks if length is 28 or 27. If its 28, pop last element and append to DF otherwise just append to DF.\n",
    "            elif splittedLine[0] == \"10\":\n",
    "                try: \n",
    "                    splittedLine.pop(27)\n",
    "                    currentPointData.loc[len(currentPointData.index)] = splittedLine\n",
    "                except IndexError:\n",
    "                    try:\n",
    "                        currentPointData.loc[len(currentPointData.index)] = splittedLine\n",
    "                    except NameError:\n",
    "                        pass\n",
    "                except NameError:\n",
    "                    pass\n",
    "\n",
    "        #Adds avg gaze position of both eyes and removes unneccesary columns\n",
    "    i=0\n",
    "\n",
    "    for df in stimulusPointData:\n",
    "\n",
    "        for label in unwantedLabels:\n",
    "            df.pop(label)\n",
    "            df=df.astype(float)\n",
    "        df[\"AverageABX\"]=df[[\"ALX\",\"BLX\"]].mean(axis=1, numeric_only=True)\n",
    "        df[\"AverageABY\"]=df[[\"ALY\",\"BLY\"]].mean(axis=1, numeric_only=True)\n",
    "\n",
    "\n",
    "        azimuthList = []\n",
    "        elevationList = []\n",
    "\n",
    "        for index in range(len(df[\"AverageABX\"])):\n",
    "            azimuth, elevation = calculateAngle(df[\"AverageABX\"][index], df[\"AverageABY\"][index])\n",
    "\n",
    "            azimuthList.append(azimuth)\n",
    "            elevationList.append(elevation)\n",
    "\n",
    "        df[\"Azimuth\"] = azimuthList\n",
    "        df[\"Elevation\"] = elevationList\n",
    "\n",
    "        stimulusPointData[i] = df\n",
    "        i+=1\n",
    "\n",
    "\n",
    "    gazeDataList = list(stimulusPointData)\n",
    "\n",
    "    i=0\n",
    "    for df in stimulusPointData:\n",
    "        gazeDataList[i]=getGazeData(df)\n",
    "        i+=1\n",
    "\n",
    "\n",
    "    sumPrc=0\n",
    "    for df in gazeDataList:\n",
    "        sumPrc+=calculatePrecision(df)\n",
    "    avgPrc=sumPrc/len(gazeDataList)\n",
    "    finalPrecisionList.append(avgPrc)\n",
    "\n",
    "    accuracyList = []\n",
    "\n",
    "    for stimPointIndex in range(len(truePointAngles)):\n",
    "\n",
    "        df=gazeDataList[stimPointIndex]\n",
    "\n",
    "        df=df.reset_index(drop=True)\n",
    "        distanceList = []\n",
    "        gazePoints=[]\n",
    "        for i in range(len(df)):\n",
    "            gazePoints.append((df[\"Azimuth\"].reset_index(drop=True)[i], df[\"Elevation\"].reset_index(drop=True)[i]))\n",
    "\n",
    "            d = calculateDistance(gazePoints[i],truePointAngles[stimPointIndex])\n",
    "            \n",
    "            distanceList.append(d)\n",
    "            \n",
    "\n",
    "        accuracy = pd.Series(distanceList).mean()\n",
    "\n",
    "        if f\"(del_{len(accuracyList)}\" in str(filename):\n",
    "            print(f\"Point {len(accuracyList)} deleted from {str(filename)}\")\n",
    "        else:\n",
    "            accuracyList.append(accuracy)\n",
    "        \n",
    "            \n",
    "\n",
    "\n",
    "    finalAccuracyList.append(pd.Series(accuracyList).mean())\n",
    "\n",
    "    #If set to true all measured points will be plotted next to true points\n",
    "    if False:\n",
    "        print(str(filename))    \n",
    "        for frame in range(16):\n",
    "            fig=plt\n",
    "            fig.clf()\n",
    "            fig.plot(gazeDataList[frame][\"Azimuth\"], gazeDataList[frame][\"Elevation\"])\n",
    "            fig.plot(truePointAngles[frame][0], truePointAngles[frame][1], marker=\".\", color=\"red\")\n",
    "            fig.xlim(-26.05, 26.05)\n",
    "            fig.ylim(-17, 17)\n",
    "            print(frame)\n",
    "            fig.show()\n",
    "\n",
    "print(finalPrecisionList, \"Average precision:\",pd.Series(finalPrecisionList).mean())\n",
    "print(finalAccuracyList, \"Average accuracy:\",pd.Series(finalAccuracyList).mean())        "
   ]
  },
  {
   "cell_type": "markdown",
   "id": "f09e20e2",
   "metadata": {},
   "source": [
    "#### Puts data in Data Frame"
   ]
  },
  {
   "cell_type": "code",
   "execution_count": 10,
   "id": "10af1ba5",
   "metadata": {},
   "outputs": [
    {
     "data": {
      "text/html": [
       "<div>\n",
       "<style scoped>\n",
       "    .dataframe tbody tr th:only-of-type {\n",
       "        vertical-align: middle;\n",
       "    }\n",
       "\n",
       "    .dataframe tbody tr th {\n",
       "        vertical-align: top;\n",
       "    }\n",
       "\n",
       "    .dataframe thead th {\n",
       "        text-align: right;\n",
       "    }\n",
       "</style>\n",
       "<table border=\"1\" class=\"dataframe\">\n",
       "  <thead>\n",
       "    <tr style=\"text-align: right;\">\n",
       "      <th></th>\n",
       "      <th>File</th>\n",
       "      <th>Accuracy (degrees Mean Error)</th>\n",
       "      <th>Precision (degrees RMS)</th>\n",
       "    </tr>\n",
       "  </thead>\n",
       "  <tbody>\n",
       "    <tr>\n",
       "      <th>0</th>\n",
       "      <td>&lt;DirEntry 'myfile.txt'&gt;</td>\n",
       "      <td>0.7891532981261509</td>\n",
       "      <td>0.08481547833763654</td>\n",
       "    </tr>\n",
       "  </tbody>\n",
       "</table>\n",
       "</div>"
      ],
      "text/plain": [
       "                      File Accuracy (degrees Mean Error)  \\\n",
       "0  <DirEntry 'myfile.txt'>            0.7891532981261509   \n",
       "\n",
       "  Precision (degrees RMS)  \n",
       "0     0.08481547833763654  "
      ]
     },
     "execution_count": 10,
     "metadata": {},
     "output_type": "execute_result"
    }
   ],
   "source": [
    "fileNameList=[]\n",
    "for file in os.scandir(directory):\n",
    "    fileNameList.append(str(file))\n",
    "pd.DataFrame(data=np.array([fileNameList, finalAccuracyList, finalPrecisionList]).T, columns=(\"File\",\"Accuracy (degrees Mean Error)\", \"Precision (degrees RMS)\"))"
   ]
  },
  {
   "cell_type": "code",
   "execution_count": 11,
   "id": "ff6d4603",
   "metadata": {},
   "outputs": [
    {
     "name": "stdout",
     "output_type": "stream",
     "text": [
      "Final mean precision: 0.08481547833763654\n"
     ]
    }
   ],
   "source": [
    "print(\"Final mean precision:\",np.array(finalPrecisionList).mean())"
   ]
  },
  {
   "cell_type": "code",
   "execution_count": 13,
   "id": "8643170c",
   "metadata": {},
   "outputs": [
    {
     "name": "stdout",
     "output_type": "stream",
     "text": [
      "Final mean accuracy: 0.7891532981261509\n"
     ]
    }
   ],
   "source": [
    "print(\"Final mean accuracy:\",np.array(finalAccuracyList).mean())"
   ]
  },
  {
   "cell_type": "code",
   "execution_count": null,
   "id": "9f21f4e5",
   "metadata": {},
   "outputs": [],
   "source": []
  }
 ],
 "metadata": {
  "kernelspec": {
   "display_name": "Python 3.10.4 ('INF161')",
   "language": "python",
   "name": "python3"
  },
  "language_info": {
   "codemirror_mode": {
    "name": "ipython",
    "version": 3
   },
   "file_extension": ".py",
   "mimetype": "text/x-python",
   "name": "python",
   "nbconvert_exporter": "python",
   "pygments_lexer": "ipython3",
   "version": "3.10.4"
  },
  "vscode": {
   "interpreter": {
    "hash": "2c05f7a93828b76f7686fcb3270f83ff7e1f648a70ce86d9d336207f9aa49d41"
   }
  }
 },
 "nbformat": 4,
 "nbformat_minor": 5
}
