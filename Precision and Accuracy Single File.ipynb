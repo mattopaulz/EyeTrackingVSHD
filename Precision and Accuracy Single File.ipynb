{
 "cells": [
  {
   "cell_type": "markdown",
   "id": "45abc3c2",
   "metadata": {},
   "source": [
    "## Precision and accuracy of eyetracking VSHD (Arrington ViewPoint)\n",
    "### This notebook reads in a datafile made using the \"Precision and Accuracy.sln\" program, and prints out the precision and the accuracy of the measured gazes \n",
    "#### Imports libraries:"
   ]
  },
  {
   "cell_type": "code",
   "execution_count": 1,
   "id": "a103625e",
   "metadata": {},
   "outputs": [],
   "source": [
    "import pandas as pd\n",
    "import numpy as np\n",
    "import math\n",
    "import matplotlib.pyplot as plt\n",
    "import warnings\n",
    "warnings.simplefilter(action='ignore', category=FutureWarning)"
   ]
  },
  {
   "cell_type": "markdown",
   "id": "70ad6e88",
   "metadata": {},
   "source": [
    "#### Presets:"
   ]
  },
  {
   "cell_type": "code",
   "execution_count": 2,
   "id": "b53ce459",
   "metadata": {},
   "outputs": [],
   "source": [
    "#file to analyze\n",
    "file = \"C:/Users/Administrator/Documents/PrecisionAndAccuracy/second Measure Group/nikolai3.txt\"\n",
    "\n",
    "#Which eye to find accuracy and precision for (\"A\", \"B\", or \"Average\")\n",
    "eye = \"Average\""
   ]
  },
  {
   "cell_type": "markdown",
   "id": "3fbe0590",
   "metadata": {},
   "source": [
    "#### Function that calculates standard deviation of a list of 2D angles "
   ]
  },
  {
   "cell_type": "code",
   "execution_count": 3,
   "id": "416526a6",
   "metadata": {},
   "outputs": [],
   "source": [
    "def calculateAngleStd(azimuthList, elevationList):\n",
    "    azimuthList = azimuthList.reset_index(drop=True)\n",
    "    elevationList = elevationList.reset_index(drop=True)\n",
    "    \n",
    "    \n",
    "    meanAzimuth , meanElevation = azimuthList.mean(), elevationList.mean()\n",
    "    meanAngle=(meanAzimuth, meanElevation)\n",
    "    distanceList = []\n",
    "    for i in range(len(azimuthList)):\n",
    "        \n",
    "        d = calculateDistance((azimuthList[i], elevationList[i]), meanAngle)\n",
    "\n",
    "        distanceList.append(d)\n",
    "    \n",
    "    \n",
    "    a=0\n",
    "    for d in distanceList:\n",
    "        a+=d**2\n",
    "    std = math.sqrt(a/len(distanceList))\n",
    "   \n",
    "    \n",
    "    \n",
    "    return std"
   ]
  },
  {
   "cell_type": "markdown",
   "id": "63004ec2",
   "metadata": {},
   "source": [
    "#### Function that calculates angular distance between two angles"
   ]
  },
  {
   "cell_type": "code",
   "execution_count": 4,
   "id": "e2fae153",
   "metadata": {},
   "outputs": [],
   "source": [
    "def calculateDistance(a, b):\n",
    "    AB = (a[0]-b[0], a[1] - b[1])\n",
    "\n",
    "    d_AB = math.sqrt(AB[0]**2 + AB[1]**2)\n",
    "\n",
    "    return d_AB\n",
    "\n",
    "    "
   ]
  },
  {
   "cell_type": "markdown",
   "id": "58eebc93",
   "metadata": {},
   "source": [
    "#### Function that calculates the precision of points in a DataFrame by measuring the distance between each point and their respective succesive points, then taking the root mean square (RMS) of these distances"
   ]
  },
  {
   "cell_type": "code",
   "execution_count": 5,
   "id": "de5fbddf",
   "metadata": {},
   "outputs": [],
   "source": [
    "def calculatePrecision(df): \n",
    "    gazePoints = []\n",
    "    for i in range(len(df)):\n",
    "\n",
    "        gazePoints.append((df[\"Azimuth\"].reset_index(drop=True)[i], df[\"Elevation\"].reset_index(drop=True)[i]))\n",
    "\n",
    "\n",
    "    distanceList = []\n",
    "    for i in range(len(gazePoints)-1):\n",
    "        d = calculateDistance(gazePoints[i], gazePoints[i+1])\n",
    "\n",
    "        distanceList.append(d)\n",
    "\n",
    "    a=0\n",
    "    for d in distanceList:\n",
    "        a+=d**2\n",
    "    precision = math.sqrt(a/len(distanceList))\n",
    "    \n",
    "    return precision\n"
   ]
  },
  {
   "cell_type": "markdown",
   "id": "c74bd920",
   "metadata": {},
   "source": [
    "#### This function extracts gaze data from all of the data measured for each of the points shown on the screens\n",
    "It finds the 18 succesive datapoints (300ms) in the data with the lowest standard deviation, and tries to extend the data one sample at a time in each direction until the standard deviation gets worse."
   ]
  },
  {
   "cell_type": "code",
   "execution_count": 6,
   "id": "77bab3da",
   "metadata": {},
   "outputs": [],
   "source": [
    "def getGazeData(df):  \n",
    "    dropStart = 18\n",
    "    \n",
    "    angleData = df[[\"ATT\",\"AverageABX\",\"AverageABY\",\"Azimuth\",\"Elevation\"]][dropStart:].reset_index(drop=True)\n",
    "\n",
    "    gazeData = angleData[:18]\n",
    "\n",
    "    for i in range(len(df)-17-dropStart):\n",
    "        newGazeData = angleData[i:i+18] \n",
    "        if calculateAngleStd(gazeData[\"Azimuth\"], gazeData[\"Elevation\"]) > calculateAngleStd(newGazeData[\"Azimuth\"], newGazeData[\"Elevation\"]):\n",
    "            gazeData = newGazeData\n",
    "    \n",
    "    \n",
    "    \n",
    "    \n",
    "    #Tries to extend\n",
    "        \n",
    "    x=0\n",
    "    while True:\n",
    "        \n",
    "        indexToAdd = gazeData.index[-1] + 1\n",
    "        \n",
    "        \n",
    "        if indexToAdd in angleData.index:\n",
    "            extGazeData = gazeData.append(angleData.iloc[indexToAdd]).sort_index()\n",
    "        else:\n",
    "            break\n",
    "        \n",
    "        if calculateAngleStd(gazeData[\"Azimuth\"], gazeData[\"Elevation\"]) > calculateAngleStd(extGazeData[\"Azimuth\"], extGazeData[\"Elevation\"]):\n",
    "            gazeData = extGazeData\n",
    "        else:\n",
    "            break\n",
    "        x+=1\n",
    "        if x > 160:\n",
    "            break\n",
    "    \n",
    "    while True:\n",
    "        \n",
    "        indexToAdd = gazeData.index[0] -1\n",
    "        \n",
    "       \n",
    "        if indexToAdd in angleData.index:\n",
    "            extGazeData = gazeData.append(angleData.iloc[indexToAdd]).sort_index()\n",
    "        else:\n",
    "            break\n",
    "\n",
    "        if calculateAngleStd(gazeData[\"Azimuth\"], gazeData[\"Elevation\"]) > calculateAngleStd(extGazeData[\"Azimuth\"], extGazeData[\"Elevation\"]):\n",
    "            gazeData = extGazeData\n",
    "        else:\n",
    "            break\n",
    "        x+=1\n",
    "        if x > 160:\n",
    "            break\n",
    "    return gazeData\n",
    "    "
   ]
  },
  {
   "cell_type": "markdown",
   "id": "27525f8e",
   "metadata": {},
   "source": [
    "#### Function that converts screen coordinates into gaze angle\n",
    "Middle of screen is gaze angle = 0 and x=0.5 y=0.5"
   ]
  },
  {
   "cell_type": "code",
   "execution_count": 7,
   "id": "a523c905",
   "metadata": {},
   "outputs": [
    {
     "name": "stdout",
     "output_type": "stream",
     "text": [
      "(18.38644820009973, 10.733247445709274)\n"
     ]
    }
   ],
   "source": [
    "def calculateAngle(screenX, screenY, fovHorizontal=52.1, fovVertical=34):\n",
    "    x = (screenX*2) - 1\n",
    "    y = (screenY*2) - 1\n",
    "\n",
    "    azimuth = math.atan(x*math.tan(fovHorizontal*math.pi/360))\n",
    "    elevation = math.atan(y*math.tan(fovVertical*math.pi/360))\n",
    "\n",
    "    \n",
    "    return azimuth*180/math.pi, elevation*180/math.pi\n",
    "\n",
    "    \n",
    "\n",
    "\n",
    "\n",
    "#This function assumes a linear relationship between screen coordinates and gaze angle, and should therefore be less accurate than the above function\n",
    "def calculateAngle2(screenX, screenY, fovHorizontal=52.1, fovVertical=34):\n",
    "    x = (screenX*2) - 1\n",
    "    y = (screenY*2) - 1\n",
    "\n",
    "    azimuth = x*fovHorizontal/2\n",
    "    elevation = y*fovVertical/2\n",
    "\n",
    "    \n",
    "    return azimuth, elevation\n",
    "\n",
    "print(calculateAngle(0.84,0.81))\n"
   ]
  },
  {
   "cell_type": "markdown",
   "id": "c48d3253",
   "metadata": {},
   "source": [
    "#### Sets list of the true point values for comparison later"
   ]
  },
  {
   "cell_type": "code",
   "execution_count": 8,
   "id": "482e4a25",
   "metadata": {},
   "outputs": [
    {
     "name": "stdout",
     "output_type": "stream",
     "text": [
      "[(-11.06320230741821, 8.691257073883165), (11.063202307418205, -8.691257073883165), (-11.06320230741821, -8.691257073883165), (11.063202307418205, 8.691257073883165), (-5.583644357117053, 3.4990590634325542), (5.583644357117053, 3.4990590634325542), (-5.583644357117053, -3.4990590634325542), (5.583644357117053, -3.4990590634325542), (0.0, -2.6257219671274514), (0.0, 8.691257073883165), (0.0, -8.691257073883165), (-11.06320230741821, 0.0), (0.0, -5.240461161882563), (11.063202307418205, 0.0), (0.0, 5.240461161882563), (0.0, 0.0)]\n"
     ]
    }
   ],
   "source": [
    "truePointValues = [(0.30, 0.75),(0.70, 0.25),(0.30, 0.25),(0.70, 0.75),(0.40, 0.60),(0.60, 0.60),(0.40, 0.40),(0.60, 0.40),(0.50, 0.425),(0.50, 0.75),(0.50, 0.25),(0.30, 0.50),(0.50, 0.35),(0.70, 0.50),(0.50, 0.65),(0.50, 0.50)]\n",
    "truePointAngles = []\n",
    "\n",
    "for point in truePointValues:\n",
    "    angle = calculateAngle(point[0], point[1])\n",
    "    truePointAngles.append(angle)\n",
    "print(truePointAngles)"
   ]
  },
  {
   "cell_type": "markdown",
   "id": "eb986052",
   "metadata": {},
   "source": [
    "#### Reads in the datafile and converts from txt into dataframe, drops all columns that are not relevant for our purposes."
   ]
  },
  {
   "cell_type": "code",
   "execution_count": 9,
   "id": "9ccf727a",
   "metadata": {},
   "outputs": [
    {
     "name": "stdout",
     "output_type": "stream",
     "text": [
      "['16', '0.000000', 'C:\\\\Users\\\\Administrator\\\\Documents\\\\PrecisionAndAccuracy\\\\StimulusPoints_bmp\\\\16_96.bmp']\n"
     ]
    },
    {
     "data": {
      "text/html": [
       "<div>\n",
       "<style scoped>\n",
       "    .dataframe tbody tr th:only-of-type {\n",
       "        vertical-align: middle;\n",
       "    }\n",
       "\n",
       "    .dataframe tbody tr th {\n",
       "        vertical-align: top;\n",
       "    }\n",
       "\n",
       "    .dataframe thead th {\n",
       "        text-align: right;\n",
       "    }\n",
       "</style>\n",
       "<table border=\"1\" class=\"dataframe\">\n",
       "  <thead>\n",
       "    <tr style=\"text-align: right;\">\n",
       "      <th></th>\n",
       "      <th>ATT</th>\n",
       "      <th>ALX</th>\n",
       "      <th>ALY</th>\n",
       "      <th>BTT</th>\n",
       "      <th>BLX</th>\n",
       "      <th>BLY</th>\n",
       "      <th>AverageABX</th>\n",
       "      <th>AverageABY</th>\n",
       "      <th>Azimuth</th>\n",
       "      <th>Elevation</th>\n",
       "    </tr>\n",
       "  </thead>\n",
       "  <tbody>\n",
       "    <tr>\n",
       "      <th>0</th>\n",
       "      <td>7.1406</td>\n",
       "      <td>0.5107</td>\n",
       "      <td>0.5613</td>\n",
       "      <td>7.1394</td>\n",
       "      <td>0.5290</td>\n",
       "      <td>0.5637</td>\n",
       "      <td>0.51985</td>\n",
       "      <td>0.56250</td>\n",
       "      <td>1.111736</td>\n",
       "      <td>2.188570</td>\n",
       "    </tr>\n",
       "    <tr>\n",
       "      <th>1</th>\n",
       "      <td>7.1432</td>\n",
       "      <td>0.5105</td>\n",
       "      <td>0.5692</td>\n",
       "      <td>7.1394</td>\n",
       "      <td>0.5290</td>\n",
       "      <td>0.5637</td>\n",
       "      <td>0.51975</td>\n",
       "      <td>0.56645</td>\n",
       "      <td>1.106137</td>\n",
       "      <td>2.326740</td>\n",
       "    </tr>\n",
       "    <tr>\n",
       "      <th>2</th>\n",
       "      <td>7.1738</td>\n",
       "      <td>0.5062</td>\n",
       "      <td>0.5561</td>\n",
       "      <td>7.1729</td>\n",
       "      <td>0.5283</td>\n",
       "      <td>0.5586</td>\n",
       "      <td>0.51725</td>\n",
       "      <td>0.55735</td>\n",
       "      <td>0.966148</td>\n",
       "      <td>2.008386</td>\n",
       "    </tr>\n",
       "    <tr>\n",
       "      <th>3</th>\n",
       "      <td>7.1775</td>\n",
       "      <td>0.5100</td>\n",
       "      <td>0.5662</td>\n",
       "      <td>7.1729</td>\n",
       "      <td>0.5283</td>\n",
       "      <td>0.5586</td>\n",
       "      <td>0.51915</td>\n",
       "      <td>0.56240</td>\n",
       "      <td>1.072540</td>\n",
       "      <td>2.185071</td>\n",
       "    </tr>\n",
       "    <tr>\n",
       "      <th>4</th>\n",
       "      <td>7.2075</td>\n",
       "      <td>0.5051</td>\n",
       "      <td>0.5552</td>\n",
       "      <td>7.2067</td>\n",
       "      <td>0.5293</td>\n",
       "      <td>0.5591</td>\n",
       "      <td>0.51720</td>\n",
       "      <td>0.55715</td>\n",
       "      <td>0.963348</td>\n",
       "      <td>2.001388</td>\n",
       "    </tr>\n",
       "    <tr>\n",
       "      <th>...</th>\n",
       "      <td>...</td>\n",
       "      <td>...</td>\n",
       "      <td>...</td>\n",
       "      <td>...</td>\n",
       "      <td>...</td>\n",
       "      <td>...</td>\n",
       "      <td>...</td>\n",
       "      <td>...</td>\n",
       "      <td>...</td>\n",
       "      <td>...</td>\n",
       "    </tr>\n",
       "    <tr>\n",
       "      <th>177</th>\n",
       "      <td>10.0803</td>\n",
       "      <td>0.3208</td>\n",
       "      <td>0.8356</td>\n",
       "      <td>10.0765</td>\n",
       "      <td>0.3140</td>\n",
       "      <td>0.8311</td>\n",
       "      <td>0.31740</td>\n",
       "      <td>0.83335</td>\n",
       "      <td>-10.121517</td>\n",
       "      <td>11.520814</td>\n",
       "    </tr>\n",
       "    <tr>\n",
       "      <th>178</th>\n",
       "      <td>10.1102</td>\n",
       "      <td>0.3234</td>\n",
       "      <td>0.8324</td>\n",
       "      <td>10.1099</td>\n",
       "      <td>0.3178</td>\n",
       "      <td>0.8362</td>\n",
       "      <td>0.32060</td>\n",
       "      <td>0.83430</td>\n",
       "      <td>-9.947715</td>\n",
       "      <td>11.552766</td>\n",
       "    </tr>\n",
       "    <tr>\n",
       "      <th>179</th>\n",
       "      <td>10.1151</td>\n",
       "      <td>0.3222</td>\n",
       "      <td>0.8412</td>\n",
       "      <td>10.1099</td>\n",
       "      <td>0.3178</td>\n",
       "      <td>0.8362</td>\n",
       "      <td>0.32000</td>\n",
       "      <td>0.83870</td>\n",
       "      <td>-9.980317</td>\n",
       "      <td>11.700655</td>\n",
       "    </tr>\n",
       "    <tr>\n",
       "      <th>180</th>\n",
       "      <td>10.1441</td>\n",
       "      <td>0.3209</td>\n",
       "      <td>0.8174</td>\n",
       "      <td>10.1396</td>\n",
       "      <td>0.3182</td>\n",
       "      <td>0.8297</td>\n",
       "      <td>0.31955</td>\n",
       "      <td>0.82355</td>\n",
       "      <td>-10.004764</td>\n",
       "      <td>11.190792</td>\n",
       "    </tr>\n",
       "    <tr>\n",
       "      <th>181</th>\n",
       "      <td>10.1621</td>\n",
       "      <td>0.3238</td>\n",
       "      <td>0.8315</td>\n",
       "      <td>10.1434</td>\n",
       "      <td>0.3190</td>\n",
       "      <td>0.8358</td>\n",
       "      <td>0.32140</td>\n",
       "      <td>0.83365</td>\n",
       "      <td>-9.904235</td>\n",
       "      <td>11.530905</td>\n",
       "    </tr>\n",
       "  </tbody>\n",
       "</table>\n",
       "<p>182 rows × 10 columns</p>\n",
       "</div>"
      ],
      "text/plain": [
       "         ATT     ALX     ALY      BTT     BLX     BLY  AverageABX  AverageABY  \\\n",
       "0     7.1406  0.5107  0.5613   7.1394  0.5290  0.5637     0.51985     0.56250   \n",
       "1     7.1432  0.5105  0.5692   7.1394  0.5290  0.5637     0.51975     0.56645   \n",
       "2     7.1738  0.5062  0.5561   7.1729  0.5283  0.5586     0.51725     0.55735   \n",
       "3     7.1775  0.5100  0.5662   7.1729  0.5283  0.5586     0.51915     0.56240   \n",
       "4     7.2075  0.5051  0.5552   7.2067  0.5293  0.5591     0.51720     0.55715   \n",
       "..       ...     ...     ...      ...     ...     ...         ...         ...   \n",
       "177  10.0803  0.3208  0.8356  10.0765  0.3140  0.8311     0.31740     0.83335   \n",
       "178  10.1102  0.3234  0.8324  10.1099  0.3178  0.8362     0.32060     0.83430   \n",
       "179  10.1151  0.3222  0.8412  10.1099  0.3178  0.8362     0.32000     0.83870   \n",
       "180  10.1441  0.3209  0.8174  10.1396  0.3182  0.8297     0.31955     0.82355   \n",
       "181  10.1621  0.3238  0.8315  10.1434  0.3190  0.8358     0.32140     0.83365   \n",
       "\n",
       "       Azimuth  Elevation  \n",
       "0     1.111736   2.188570  \n",
       "1     1.106137   2.326740  \n",
       "2     0.966148   2.008386  \n",
       "3     1.072540   2.185071  \n",
       "4     0.963348   2.001388  \n",
       "..         ...        ...  \n",
       "177 -10.121517  11.520814  \n",
       "178  -9.947715  11.552766  \n",
       "179  -9.980317  11.700655  \n",
       "180 -10.004764  11.190792  \n",
       "181  -9.904235  11.530905  \n",
       "\n",
       "[182 rows x 10 columns]"
      ]
     },
     "execution_count": 9,
     "metadata": {},
     "output_type": "execute_result"
    }
   ],
   "source": [
    "with open(file) as rawData: \n",
    "    lineNumber = 0\n",
    "    stimulusPointNr = 0\n",
    "    unwantedLabels = [\"6\",\"ADT\", \"ACX\", \"ACY\",\"ARI\", \"APW\", \"APH\",\"AQU\",\"AFX\",\"BDT\",\"BCX\",\"BCY\",\"BRI\",\"BPW\",\"BPH\",\"BQU\",\"BFX\",\"GPX\",\"GPY\",\"GPZ\",\"CNT\"]\n",
    "    \n",
    "    \n",
    "    dropFirstRows = list(range(0,60))\n",
    "    \n",
    "    \n",
    "   \n",
    "\n",
    "    for line in rawData:\n",
    "        splittedLine =line.split()\n",
    "        \n",
    "\n",
    "        #If index of raw data is 6 it adds as rows\n",
    "        if splittedLine[0] == \"6\":\n",
    "            splittedLine.pop(27) #pops mrk label\n",
    "            DfColumns = splittedLine\n",
    "            formattedData = pd.DataFrame(columns=splittedLine)\n",
    "\n",
    "            #Defines dataframes for measured data for all the stimulus points\n",
    "            point1 = pd.DataFrame(columns=DfColumns)\n",
    "            point2 = pd.DataFrame(columns=DfColumns)\n",
    "            point3 = pd.DataFrame(columns=DfColumns)\n",
    "            point4 = pd.DataFrame(columns=DfColumns)\n",
    "            point5 = pd.DataFrame(columns=DfColumns)\n",
    "            point6 = pd.DataFrame(columns=DfColumns)\n",
    "            point7 = pd.DataFrame(columns=DfColumns)\n",
    "            point8 = pd.DataFrame(columns=DfColumns)\n",
    "            point9 = pd.DataFrame(columns=DfColumns)\n",
    "            point10 = pd.DataFrame(columns=DfColumns)\n",
    "            point11= pd.DataFrame(columns=DfColumns)\n",
    "            point12 = pd.DataFrame(columns=DfColumns)\n",
    "            point13 = pd.DataFrame(columns=DfColumns)\n",
    "            point14 = pd.DataFrame(columns=DfColumns)\n",
    "            point15 = pd.DataFrame(columns=DfColumns)\n",
    "            point16 = pd.DataFrame(columns=DfColumns)\n",
    "            \n",
    "            stimulusPointData = [point1, point2, point3, point4, point5, point6, point7, point8, point9, point10, point11, point12, point13, point14, point15, point16]\n",
    "        \n",
    "        elif splittedLine[0] == \"16\":\n",
    "            \n",
    "            if splittedLine[1][0]==\"0\":\n",
    "                print(splittedLine)\n",
    "            #if stimulusPointNr >= 0: #Does so that it doesnt start appending the first lines to the last dataframe\n",
    "            else:\n",
    "                currentPointData = stimulusPointData[stimulusPointNr]\n",
    "                stimulusPointNr +=1\n",
    "           \n",
    "            \n",
    "            \n",
    "        #All rows of data have index 10 in the raw data, some have marks though and are therefore 1 column longer,\n",
    "        #this checks if length is 28 or 27. If its 28, pop last element and append to DF otherwise just append to DF.\n",
    "        elif splittedLine[0] == \"10\":\n",
    "            try: \n",
    "                splittedLine.pop(27)\n",
    "                currentPointData.loc[len(currentPointData.index)] = splittedLine\n",
    "            except IndexError:\n",
    "                try:\n",
    "                    currentPointData.loc[len(currentPointData.index)] = splittedLine\n",
    "                except NameError:\n",
    "                    pass\n",
    "            except NameError:\n",
    "                pass\n",
    "          \n",
    "\n",
    "   \n",
    "    #Adds averagegaze-columns (both eyes), and removes unneccesary columns\n",
    "i=0\n",
    "   \n",
    "for df in stimulusPointData:\n",
    "\n",
    "    for label in unwantedLabels:\n",
    "        df.pop(label)\n",
    "        df=df.astype(float)\n",
    "    #df=df.drop(labels=dropFirstRows, axis=0) #deletes first second because of reaction time induced error\n",
    "    df[\"AverageABX\"]=df[[\"ALX\",\"BLX\"]].mean(axis=1, numeric_only=True)\n",
    "    df[\"AverageABY\"]=df[[\"ALY\",\"BLY\"]].mean(axis=1, numeric_only=True)\n",
    "\n",
    "    #df[\"ALX\"]#\n",
    "    #df[\"ALY\"]#\n",
    "    \n",
    "\n",
    "    azimuthList = []\n",
    "    elevationList = []\n",
    "\n",
    "    for index in range(len(df[\"AverageABX\"])):\n",
    "        if eye == \"Average\":\n",
    "            azimuth, elevation = calculateAngle(df[\"AverageABX\"][index], df[\"AverageABY\"][index])\n",
    "        elif eye == \"A\":\n",
    "            azimuth, elevation = calculateAngle(df[\"ALX\"][index], df[\"ALY\"][index])\n",
    "        elif eye == \"B\":\n",
    "            azimuth, elevation = calculateAngle(df[\"BLX\"][index], df[\"BLY\"][index])\n",
    "        else:\n",
    "            print(\"Error invalid eye\")\n",
    "\n",
    "        azimuthList.append(azimuth)\n",
    "        elevationList.append(elevation)\n",
    "\n",
    "    df[\"Azimuth\"] = azimuthList\n",
    "    df[\"Elevation\"] = elevationList\n",
    "    \n",
    "    stimulusPointData[i] = df\n",
    "    i+=1\n",
    "\n",
    "stimulusPointData[0]\n",
    "\n",
    "   \n",
    "    \n",
    "\n",
    "\n",
    "\n",
    "    \n",
    "\n",
    "\n",
    "\n",
    "        \n",
    "       \n",
    "        \n",
    "\n"
   ]
  },
  {
   "cell_type": "markdown",
   "id": "692e0be6",
   "metadata": {},
   "source": [
    "#### Makes a list of the 16 gaze DataFrames"
   ]
  },
  {
   "cell_type": "code",
   "execution_count": 10,
   "id": "62ef3c7e",
   "metadata": {
    "scrolled": false
   },
   "outputs": [
    {
     "data": {
      "text/html": [
       "<div>\n",
       "<style scoped>\n",
       "    .dataframe tbody tr th:only-of-type {\n",
       "        vertical-align: middle;\n",
       "    }\n",
       "\n",
       "    .dataframe tbody tr th {\n",
       "        vertical-align: top;\n",
       "    }\n",
       "\n",
       "    .dataframe thead th {\n",
       "        text-align: right;\n",
       "    }\n",
       "</style>\n",
       "<table border=\"1\" class=\"dataframe\">\n",
       "  <thead>\n",
       "    <tr style=\"text-align: right;\">\n",
       "      <th></th>\n",
       "      <th>ATT</th>\n",
       "      <th>AverageABX</th>\n",
       "      <th>AverageABY</th>\n",
       "      <th>Azimuth</th>\n",
       "      <th>Elevation</th>\n",
       "    </tr>\n",
       "  </thead>\n",
       "  <tbody>\n",
       "    <tr>\n",
       "      <th>125</th>\n",
       "      <td>9.5141</td>\n",
       "      <td>0.31855</td>\n",
       "      <td>0.82530</td>\n",
       "      <td>-10.059079</td>\n",
       "      <td>11.249780</td>\n",
       "    </tr>\n",
       "    <tr>\n",
       "      <th>126</th>\n",
       "      <td>9.5431</td>\n",
       "      <td>0.31760</td>\n",
       "      <td>0.82440</td>\n",
       "      <td>-10.110660</td>\n",
       "      <td>11.219446</td>\n",
       "    </tr>\n",
       "    <tr>\n",
       "      <th>127</th>\n",
       "      <td>9.5481</td>\n",
       "      <td>0.31985</td>\n",
       "      <td>0.82965</td>\n",
       "      <td>-9.988467</td>\n",
       "      <td>11.396304</td>\n",
       "    </tr>\n",
       "    <tr>\n",
       "      <th>128</th>\n",
       "      <td>9.5767</td>\n",
       "      <td>0.31605</td>\n",
       "      <td>0.81760</td>\n",
       "      <td>-10.194784</td>\n",
       "      <td>10.990052</td>\n",
       "    </tr>\n",
       "    <tr>\n",
       "      <th>129</th>\n",
       "      <td>9.5796</td>\n",
       "      <td>0.31800</td>\n",
       "      <td>0.82805</td>\n",
       "      <td>-10.088944</td>\n",
       "      <td>11.342428</td>\n",
       "    </tr>\n",
       "    <tr>\n",
       "      <th>130</th>\n",
       "      <td>9.6096</td>\n",
       "      <td>0.31545</td>\n",
       "      <td>0.82230</td>\n",
       "      <td>-10.227336</td>\n",
       "      <td>11.148643</td>\n",
       "    </tr>\n",
       "    <tr>\n",
       "      <th>131</th>\n",
       "      <td>9.6128</td>\n",
       "      <td>0.31925</td>\n",
       "      <td>0.82955</td>\n",
       "      <td>-10.021061</td>\n",
       "      <td>11.392937</td>\n",
       "    </tr>\n",
       "    <tr>\n",
       "      <th>132</th>\n",
       "      <td>9.6436</td>\n",
       "      <td>0.31625</td>\n",
       "      <td>0.82575</td>\n",
       "      <td>-10.183932</td>\n",
       "      <td>11.264945</td>\n",
       "    </tr>\n",
       "    <tr>\n",
       "      <th>133</th>\n",
       "      <td>9.6466</td>\n",
       "      <td>0.31725</td>\n",
       "      <td>0.82875</td>\n",
       "      <td>-10.129660</td>\n",
       "      <td>11.366001</td>\n",
       "    </tr>\n",
       "    <tr>\n",
       "      <th>134</th>\n",
       "      <td>9.6766</td>\n",
       "      <td>0.31625</td>\n",
       "      <td>0.82410</td>\n",
       "      <td>-10.183932</td>\n",
       "      <td>11.209334</td>\n",
       "    </tr>\n",
       "    <tr>\n",
       "      <th>135</th>\n",
       "      <td>9.6810</td>\n",
       "      <td>0.31685</td>\n",
       "      <td>0.82760</td>\n",
       "      <td>-10.151371</td>\n",
       "      <td>11.327271</td>\n",
       "    </tr>\n",
       "    <tr>\n",
       "      <th>136</th>\n",
       "      <td>9.7099</td>\n",
       "      <td>0.31475</td>\n",
       "      <td>0.82320</td>\n",
       "      <td>-10.265305</td>\n",
       "      <td>11.178991</td>\n",
       "    </tr>\n",
       "    <tr>\n",
       "      <th>137</th>\n",
       "      <td>9.7137</td>\n",
       "      <td>0.31425</td>\n",
       "      <td>0.82635</td>\n",
       "      <td>-10.292420</td>\n",
       "      <td>11.285162</td>\n",
       "    </tr>\n",
       "    <tr>\n",
       "      <th>138</th>\n",
       "      <td>9.7443</td>\n",
       "      <td>0.31575</td>\n",
       "      <td>0.82345</td>\n",
       "      <td>-10.211061</td>\n",
       "      <td>11.187420</td>\n",
       "    </tr>\n",
       "    <tr>\n",
       "      <th>139</th>\n",
       "      <td>9.7473</td>\n",
       "      <td>0.31705</td>\n",
       "      <td>0.82825</td>\n",
       "      <td>-10.140516</td>\n",
       "      <td>11.349163</td>\n",
       "    </tr>\n",
       "    <tr>\n",
       "      <th>140</th>\n",
       "      <td>9.7770</td>\n",
       "      <td>0.31605</td>\n",
       "      <td>0.82395</td>\n",
       "      <td>-10.194784</td>\n",
       "      <td>11.204277</td>\n",
       "    </tr>\n",
       "    <tr>\n",
       "      <th>141</th>\n",
       "      <td>9.7797</td>\n",
       "      <td>0.31615</td>\n",
       "      <td>0.82610</td>\n",
       "      <td>-10.189358</td>\n",
       "      <td>11.276738</td>\n",
       "    </tr>\n",
       "    <tr>\n",
       "      <th>142</th>\n",
       "      <td>9.8098</td>\n",
       "      <td>0.31775</td>\n",
       "      <td>0.82010</td>\n",
       "      <td>-10.102517</td>\n",
       "      <td>11.074430</td>\n",
       "    </tr>\n",
       "  </tbody>\n",
       "</table>\n",
       "</div>"
      ],
      "text/plain": [
       "        ATT  AverageABX  AverageABY    Azimuth  Elevation\n",
       "125  9.5141     0.31855     0.82530 -10.059079  11.249780\n",
       "126  9.5431     0.31760     0.82440 -10.110660  11.219446\n",
       "127  9.5481     0.31985     0.82965  -9.988467  11.396304\n",
       "128  9.5767     0.31605     0.81760 -10.194784  10.990052\n",
       "129  9.5796     0.31800     0.82805 -10.088944  11.342428\n",
       "130  9.6096     0.31545     0.82230 -10.227336  11.148643\n",
       "131  9.6128     0.31925     0.82955 -10.021061  11.392937\n",
       "132  9.6436     0.31625     0.82575 -10.183932  11.264945\n",
       "133  9.6466     0.31725     0.82875 -10.129660  11.366001\n",
       "134  9.6766     0.31625     0.82410 -10.183932  11.209334\n",
       "135  9.6810     0.31685     0.82760 -10.151371  11.327271\n",
       "136  9.7099     0.31475     0.82320 -10.265305  11.178991\n",
       "137  9.7137     0.31425     0.82635 -10.292420  11.285162\n",
       "138  9.7443     0.31575     0.82345 -10.211061  11.187420\n",
       "139  9.7473     0.31705     0.82825 -10.140516  11.349163\n",
       "140  9.7770     0.31605     0.82395 -10.194784  11.204277\n",
       "141  9.7797     0.31615     0.82610 -10.189358  11.276738\n",
       "142  9.8098     0.31775     0.82010 -10.102517  11.074430"
      ]
     },
     "execution_count": 10,
     "metadata": {},
     "output_type": "execute_result"
    }
   ],
   "source": [
    "gazeDataList = list(stimulusPointData)\n",
    "\n",
    "#print(stimulusPointData)\n",
    "\n",
    "i=0\n",
    "for df in stimulusPointData:\n",
    "    #print(df)\n",
    "    gazeDataList[i]=getGazeData(df)\n",
    "    i+=1\n",
    "    \n",
    "\n",
    "gazeDataList[0]"
   ]
  },
  {
   "cell_type": "markdown",
   "id": "5b97e006",
   "metadata": {},
   "source": [
    "#### Calculates the average precision of the gaze data"
   ]
  },
  {
   "cell_type": "code",
   "execution_count": 11,
   "id": "8547e844",
   "metadata": {},
   "outputs": [
    {
     "name": "stdout",
     "output_type": "stream",
     "text": [
      "Average precision is 0.1341255574097781\n"
     ]
    }
   ],
   "source": [
    "sumPrc=0\n",
    "for df in gazeDataList:\n",
    "    sumPrc+=calculatePrecision(df)\n",
    "avgPrc=sumPrc/len(gazeDataList)\n",
    "print(f\"Average precision is {avgPrc}\")"
   ]
  },
  {
   "cell_type": "markdown",
   "id": "db320fcb",
   "metadata": {},
   "source": [
    "#### Calculates the average accuracy of the measured gaze data"
   ]
  },
  {
   "cell_type": "code",
   "execution_count": 12,
   "id": "da14f77b",
   "metadata": {},
   "outputs": [
    {
     "name": "stdout",
     "output_type": "stream",
     "text": [
      "Average accuracy of eye: Average is 4.587787463229566\n"
     ]
    }
   ],
   "source": [
    "\n",
    "\n",
    "accuracyList = []\n",
    "\n",
    " \n",
    "for stimPointIndex in range(len(stimulusPointData)):\n",
    "    \n",
    "    \n",
    "    df=gazeDataList[stimPointIndex]\n",
    "\n",
    "    df=df.reset_index(drop=True)\n",
    "    distanceList = []\n",
    "    gazePoints=[]\n",
    "    for i in range(len(df)):\n",
    "        gazePoints.append((df[\"Azimuth\"].reset_index(drop=True)[i], df[\"Elevation\"].reset_index(drop=True)[i]))\n",
    "        \n",
    "        d = calculateDistance(gazePoints[i],truePointAngles[stimPointIndex])\n",
    "        distanceList.append(d)\n",
    "        \n",
    "    accuracy = pd.Series(distanceList).mean()\n",
    "    \n",
    "    if f\"(del_{stimPointIndex}\" in str(file):\n",
    "        print(f\"Point {stimPointIndex} deleted from {str(file)}\")\n",
    "    else:\n",
    "        accuracyList.append(accuracy)\n",
    "        \n",
    "\n",
    "print(\"Average accuracy of eye:\",eye,\"is\",pd.Series(accuracyList[:]).mean())\n",
    "    \n",
    "    \n",
    "    "
   ]
  },
  {
   "cell_type": "markdown",
   "id": "f0cc79e3",
   "metadata": {},
   "source": [
    "#### Plots the measured points (blue), and the actual points (red) (axes are gaze angle)"
   ]
  },
  {
   "cell_type": "code",
   "execution_count": 13,
   "id": "b9af6ad2",
   "metadata": {},
   "outputs": [
    {
     "name": "stdout",
     "output_type": "stream",
     "text": [
      "0\n"
     ]
    },
    {
     "data": {
      "image/png": "[encoded data removed]",
      "text/plain": [
       "<Figure size 432x288 with 1 Axes>"
      ]
     },
     "metadata": {
      "needs_background": "light"
     },
     "output_type": "display_data"
    },
    {
     "name": "stdout",
     "output_type": "stream",
     "text": [
      "1\n"
     ]
    },
    {
     "data": {
      "image/png": "[encoded data removed]",
      "text/plain": [
       "<Figure size 432x288 with 1 Axes>"
      ]
     },
     "metadata": {
      "needs_background": "light"
     },
     "output_type": "display_data"
    },
    {
     "name": "stdout",
     "output_type": "stream",
     "text": [
      "2\n"
     ]
    },
    {
     "data": {
      "image/png": "[encoded data removed]",
      "text/plain": [
       "<Figure size 432x288 with 1 Axes>"
      ]
     },
     "metadata": {
      "needs_background": "light"
     },
     "output_type": "display_data"
    },
    {
     "name": "stdout",
     "output_type": "stream",
     "text": [
      "3\n"
     ]
    },
    {
     "data": {
      "image/png": "[encoded data removed]",
      "text/plain": [
       "<Figure size 432x288 with 1 Axes>"
      ]
     },
     "metadata": {
      "needs_background": "light"
     },
     "output_type": "display_data"
    },
    {
     "name": "stdout",
     "output_type": "stream",
     "text": [
      "4\n"
     ]
    },
    {
     "data": {
      "image/png": "[encoded data removed]",
      "text/plain": [
       "<Figure size 432x288 with 1 Axes>"
      ]
     },
     "metadata": {
      "needs_background": "light"
     },
     "output_type": "display_data"
    },
    {
     "name": "stdout",
     "output_type": "stream",
     "text": [
      "5\n"
     ]
    },
    {
     "data": {
      "image/png": "[encoded data removed]",
      "text/plain": [
       "<Figure size 432x288 with 1 Axes>"
      ]
     },
     "metadata": {
      "needs_background": "light"
     },
     "output_type": "display_data"
    },
    {
     "name": "stdout",
     "output_type": "stream",
     "text": [
      "6\n"
     ]
    },
    {
     "data": {
      "image/png": "[encoded data removed]",
      "text/plain": [
       "<Figure size 432x288 with 1 Axes>"
      ]
     },
     "metadata": {
      "needs_background": "light"
     },
     "output_type": "display_data"
    },
    {
     "name": "stdout",
     "output_type": "stream",
     "text": [
      "7\n"
     ]
    },
    {
     "data": {
      "image/png": "[encoded data removed]",
      "text/plain": [
       "<Figure size 432x288 with 1 Axes>"
      ]
     },
     "metadata": {
      "needs_background": "light"
     },
     "output_type": "display_data"
    },
    {
     "name": "stdout",
     "output_type": "stream",
     "text": [
      "8\n"
     ]
    },
    {
     "data": {
      "image/png": "[encoded data removed]",
      "text/plain": [
       "<Figure size 432x288 with 1 Axes>"
      ]
     },
     "metadata": {
      "needs_background": "light"
     },
     "output_type": "display_data"
    },
    {
     "name": "stdout",
     "output_type": "stream",
     "text": [
      "9\n"
     ]
    },
    {
     "data": {
      "image/png": "[encoded data removed]",
      "text/plain": [
       "<Figure size 432x288 with 1 Axes>"
      ]
     },
     "metadata": {
      "needs_background": "light"
     },
     "output_type": "display_data"
    },
    {
     "name": "stdout",
     "output_type": "stream",
     "text": [
      "10\n"
     ]
    },
    {
     "data": {
      "image/png": "[encoded data removed]",
      "text/plain": [
       "<Figure size 432x288 with 1 Axes>"
      ]
     },
     "metadata": {
      "needs_background": "light"
     },
     "output_type": "display_data"
    },
    {
     "name": "stdout",
     "output_type": "stream",
     "text": [
      "11\n"
     ]
    },
    {
     "data": {
      "image/png": "[encoded data removed]",
      "text/plain": [
       "<Figure size 432x288 with 1 Axes>"
      ]
     },
     "metadata": {
      "needs_background": "light"
     },
     "output_type": "display_data"
    },
    {
     "name": "stdout",
     "output_type": "stream",
     "text": [
      "12\n"
     ]
    },
    {
     "data": {
      "image/png": "[encoded data removed]",
      "text/plain": [
       "<Figure size 432x288 with 1 Axes>"
      ]
     },
     "metadata": {
      "needs_background": "light"
     },
     "output_type": "display_data"
    },
    {
     "name": "stdout",
     "output_type": "stream",
     "text": [
      "13\n"
     ]
    },
    {
     "data": {
      "image/png": "[encoded data removed]",
      "text/plain": [
       "<Figure size 432x288 with 1 Axes>"
      ]
     },
     "metadata": {
      "needs_background": "light"
     },
     "output_type": "display_data"
    },
    {
     "name": "stdout",
     "output_type": "stream",
     "text": [
      "14\n"
     ]
    },
    {
     "data": {
      "image/png": "[encoded data removed]",
      "text/plain": [
       "<Figure size 432x288 with 1 Axes>"
      ]
     },
     "metadata": {
      "needs_background": "light"
     },
     "output_type": "display_data"
    },
    {
     "name": "stdout",
     "output_type": "stream",
     "text": [
      "15\n"
     ]
    },
    {
     "data": {
      "image/png": "[encoded data removed]",
      "text/plain": [
       "<Figure size 432x288 with 1 Axes>"
      ]
     },
     "metadata": {
      "needs_background": "light"
     },
     "output_type": "display_data"
    }
   ],
   "source": [
    "for frame in range(16):\n",
    "    fig=plt\n",
    "    fig.clf()\n",
    "    fig.plot(gazeDataList[frame][\"Azimuth\"], gazeDataList[frame][\"Elevation\"])\n",
    "    fig.plot(truePointAngles[frame][0], truePointAngles[frame][1], marker=\".\", color=\"red\")\n",
    "    fig.xlim(-26.05, 26.05)\n",
    "    fig.ylim(-17, 17)\n",
    "    print(frame)\n",
    "    fig.show()"
   ]
  },
  {
   "cell_type": "markdown",
   "id": "d33740f7",
   "metadata": {},
   "source": [
    "#### Plots the eye movement on single point "
   ]
  },
  {
   "cell_type": "code",
   "execution_count": 14,
   "id": "7a6526a3",
   "metadata": {},
   "outputs": [
    {
     "data": {
      "image/png": "[encoded data removed]",
      "text/plain": [
       "<Figure size 432x288 with 1 Axes>"
      ]
     },
     "metadata": {
      "needs_background": "light"
     },
     "output_type": "display_data"
    }
   ],
   "source": [
    "point = 3\n",
    "\n",
    "plt.plot(stimulusPointData[point][\"Azimuth\"], stimulusPointData[point][\"Elevation\"], marker=\".\", ls=\"\")\n",
    "plt.xlim(-26.05, 26.05)\n",
    "plt.ylim(-17, 17)\n",
    "plt.show()"
   ]
  },
  {
   "cell_type": "code",
   "execution_count": null,
   "id": "2da1d519",
   "metadata": {},
   "outputs": [],
   "source": []
  },
  {
   "cell_type": "code",
   "execution_count": null,
   "id": "397930d2",
   "metadata": {},
   "outputs": [],
   "source": []
  }
 ],
 "metadata": {
  "kernelspec": {
   "display_name": "Python 3.10.4 ('INF161')",
   "language": "python",
   "name": "python3"
  },
  "language_info": {
   "codemirror_mode": {
    "name": "ipython",
    "version": 3
   },
   "file_extension": ".py",
   "mimetype": "text/x-python",
   "name": "python",
   "nbconvert_exporter": "python",
   "pygments_lexer": "ipython3",
   "version": "3.10.4"
  },
  "vscode": {
   "interpreter": {
    "hash": "2c05f7a93828b76f7686fcb3270f83ff7e1f648a70ce86d9d336207f9aa49d41"
   }
  }
 },
 "nbformat": 4,
 "nbformat_minor": 5
}
